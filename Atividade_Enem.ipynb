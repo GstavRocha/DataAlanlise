{
 "cells": [
  {
   "cell_type": "markdown",
   "metadata": {
    "colab_type": "text",
    "id": "view-in-github"
   },
   "source": [
    "<a href=\"https://colab.research.google.com/github/GstavRocha/DataAlanlise/blob/main/Atividade_Enem.ipynb\" target=\"_parent\"><img src=\"https://colab.research.google.com/assets/colab-badge.svg\" alt=\"Open In Colab\"/></a>"
   ]
  },
  {
   "cell_type": "markdown",
   "metadata": {},
   "source": [
    "# Atividade de Analise de Dados\n",
    "## Docente Gustavo Fontoura\n",
    "### Discente Luiz Gustavo da Rocha Ferreira\n",
    "Esta é uma atividade mais complexa, mas ainda podemos avaliar os dados.\n",
    "a) Baixe os arquivos em anexos que contêm os dados e o dicionário dos dados;\n",
    "b) abra o arquivo do ENEM no Colab;\n",
    "c) manipule as variáveis para obter as seguintes informações:\n",
    "1. Quantos candidatos fazem parte da base de dados;\n",
    "2. Qual é a proporção de sexo entre os candidatos;\n",
    "3. Elabore um histograma da idade;\n",
    "4. Calcule a média das notas das provas do ENEM;\n",
    "5. Faça um boxplot das notas de CN do ENEM;\n",
    "6. Faça o boxplot das notas de CN distribuídas por Sexo;\n",
    "7. Calcule a média da nota da redação por Dependência Administrativa;"
   ]
  },
  {
   "cell_type": "code",
   "execution_count": 26,
   "metadata": {},
   "outputs": [
    {
     "data": {
      "text/html": [
       "<div>\n",
       "<style scoped>\n",
       "    .dataframe tbody tr th:only-of-type {\n",
       "        vertical-align: middle;\n",
       "    }\n",
       "\n",
       "    .dataframe tbody tr th {\n",
       "        vertical-align: top;\n",
       "    }\n",
       "\n",
       "    .dataframe thead th {\n",
       "        text-align: right;\n",
       "    }\n",
       "</style>\n",
       "<table border=\"1\" class=\"dataframe\">\n",
       "  <thead>\n",
       "    <tr style=\"text-align: right;\">\n",
       "      <th></th>\n",
       "      <th>Unnamed: 0</th>\n",
       "      <th>NU_INSCRICAO</th>\n",
       "      <th>NU_ANO</th>\n",
       "      <th>CO_MUNICIPIO_RESIDENCIA</th>\n",
       "      <th>NO_MUNICIPIO_RESIDENCIA</th>\n",
       "      <th>CO_UF_RESIDENCIA</th>\n",
       "      <th>SG_UF_RESIDENCIA</th>\n",
       "      <th>NU_IDADE</th>\n",
       "      <th>TP_SEXO</th>\n",
       "      <th>TP_ESTADO_CIVIL</th>\n",
       "      <th>...</th>\n",
       "      <th>Q016</th>\n",
       "      <th>Q017</th>\n",
       "      <th>Q018</th>\n",
       "      <th>Q019</th>\n",
       "      <th>Q020</th>\n",
       "      <th>Q021</th>\n",
       "      <th>Q022</th>\n",
       "      <th>Q023</th>\n",
       "      <th>Q024</th>\n",
       "      <th>Q025</th>\n",
       "    </tr>\n",
       "  </thead>\n",
       "  <tbody>\n",
       "    <tr>\n",
       "      <th>0</th>\n",
       "      <td>133664</td>\n",
       "      <td>190001138292</td>\n",
       "      <td>2019</td>\n",
       "      <td>2305357</td>\n",
       "      <td>Icapuí</td>\n",
       "      <td>23</td>\n",
       "      <td>CE</td>\n",
       "      <td>19</td>\n",
       "      <td>F</td>\n",
       "      <td>1</td>\n",
       "      <td>...</td>\n",
       "      <td>B</td>\n",
       "      <td>A</td>\n",
       "      <td>A</td>\n",
       "      <td>B</td>\n",
       "      <td>A</td>\n",
       "      <td>A</td>\n",
       "      <td>C</td>\n",
       "      <td>A</td>\n",
       "      <td>B</td>\n",
       "      <td>B</td>\n",
       "    </tr>\n",
       "    <tr>\n",
       "      <th>1</th>\n",
       "      <td>135588</td>\n",
       "      <td>190001140216</td>\n",
       "      <td>2019</td>\n",
       "      <td>2306009</td>\n",
       "      <td>Iracema</td>\n",
       "      <td>23</td>\n",
       "      <td>CE</td>\n",
       "      <td>18</td>\n",
       "      <td>F</td>\n",
       "      <td>1</td>\n",
       "      <td>...</td>\n",
       "      <td>B</td>\n",
       "      <td>A</td>\n",
       "      <td>B</td>\n",
       "      <td>D</td>\n",
       "      <td>B</td>\n",
       "      <td>A</td>\n",
       "      <td>E</td>\n",
       "      <td>B</td>\n",
       "      <td>D</td>\n",
       "      <td>B</td>\n",
       "    </tr>\n",
       "    <tr>\n",
       "      <th>2</th>\n",
       "      <td>142489</td>\n",
       "      <td>190001147117</td>\n",
       "      <td>2019</td>\n",
       "      <td>2305357</td>\n",
       "      <td>Icapuí</td>\n",
       "      <td>23</td>\n",
       "      <td>CE</td>\n",
       "      <td>18</td>\n",
       "      <td>F</td>\n",
       "      <td>0</td>\n",
       "      <td>...</td>\n",
       "      <td>A</td>\n",
       "      <td>A</td>\n",
       "      <td>A</td>\n",
       "      <td>A</td>\n",
       "      <td>A</td>\n",
       "      <td>A</td>\n",
       "      <td>B</td>\n",
       "      <td>A</td>\n",
       "      <td>B</td>\n",
       "      <td>B</td>\n",
       "    </tr>\n",
       "    <tr>\n",
       "      <th>3</th>\n",
       "      <td>163886</td>\n",
       "      <td>190001168518</td>\n",
       "      <td>2019</td>\n",
       "      <td>2305357</td>\n",
       "      <td>Icapuí</td>\n",
       "      <td>23</td>\n",
       "      <td>CE</td>\n",
       "      <td>17</td>\n",
       "      <td>F</td>\n",
       "      <td>1</td>\n",
       "      <td>...</td>\n",
       "      <td>B</td>\n",
       "      <td>A</td>\n",
       "      <td>A</td>\n",
       "      <td>B</td>\n",
       "      <td>A</td>\n",
       "      <td>A</td>\n",
       "      <td>C</td>\n",
       "      <td>A</td>\n",
       "      <td>B</td>\n",
       "      <td>B</td>\n",
       "    </tr>\n",
       "    <tr>\n",
       "      <th>4</th>\n",
       "      <td>271794</td>\n",
       "      <td>190001276426</td>\n",
       "      <td>2019</td>\n",
       "      <td>2933000</td>\n",
       "      <td>Valente</td>\n",
       "      <td>29</td>\n",
       "      <td>BA</td>\n",
       "      <td>18</td>\n",
       "      <td>M</td>\n",
       "      <td>0</td>\n",
       "      <td>...</td>\n",
       "      <td>A</td>\n",
       "      <td>A</td>\n",
       "      <td>A</td>\n",
       "      <td>B</td>\n",
       "      <td>A</td>\n",
       "      <td>A</td>\n",
       "      <td>C</td>\n",
       "      <td>A</td>\n",
       "      <td>A</td>\n",
       "      <td>B</td>\n",
       "    </tr>\n",
       "  </tbody>\n",
       "</table>\n",
       "<p>5 rows × 137 columns</p>\n",
       "</div>"
      ],
      "text/plain": [
       "   Unnamed: 0  NU_INSCRICAO  NU_ANO  CO_MUNICIPIO_RESIDENCIA  \\\n",
       "0      133664  190001138292    2019                  2305357   \n",
       "1      135588  190001140216    2019                  2306009   \n",
       "2      142489  190001147117    2019                  2305357   \n",
       "3      163886  190001168518    2019                  2305357   \n",
       "4      271794  190001276426    2019                  2933000   \n",
       "\n",
       "  NO_MUNICIPIO_RESIDENCIA  CO_UF_RESIDENCIA SG_UF_RESIDENCIA  NU_IDADE  \\\n",
       "0                  Icapuí                23               CE        19   \n",
       "1                 Iracema                23               CE        18   \n",
       "2                  Icapuí                23               CE        18   \n",
       "3                  Icapuí                23               CE        17   \n",
       "4                 Valente                29               BA        18   \n",
       "\n",
       "  TP_SEXO  TP_ESTADO_CIVIL  ...  Q016  Q017  Q018 Q019  Q020 Q021  Q022  Q023  \\\n",
       "0       F                1  ...     B     A     A    B     A    A     C     A   \n",
       "1       F                1  ...     B     A     B    D     B    A     E     B   \n",
       "2       F                0  ...     A     A     A    A     A    A     B     A   \n",
       "3       F                1  ...     B     A     A    B     A    A     C     A   \n",
       "4       M                0  ...     A     A     A    B     A    A     C     A   \n",
       "\n",
       "   Q024  Q025  \n",
       "0     B     B  \n",
       "1     D     B  \n",
       "2     B     B  \n",
       "3     B     B  \n",
       "4     A     B  \n",
       "\n",
       "[5 rows x 137 columns]"
      ]
     },
     "execution_count": 26,
     "metadata": {},
     "output_type": "execute_result"
    }
   ],
   "source": [
    "from IPython.display import display, Math, HTML\n",
    "import pandas as pd\n",
    "import matplotlib.pyplot as plt\n",
    "import numpy as np\n",
    "\n",
    "df = pd.read_csv('ENEM2019_RN.csv', encoding='utf8')\n",
    "df.head()"
   ]
  },
  {
   "cell_type": "markdown",
   "metadata": {},
   "source": [
    "1. Quantos candidatos fazem parte da base de dados;"
   ]
  },
  {
   "cell_type": "code",
   "execution_count": 10,
   "metadata": {
    "id": "1N-vtnFv4Vs5"
   },
   "outputs": [
    {
     "data": {
      "text/plain": [
       "20349"
      ]
     },
     "execution_count": 10,
     "metadata": {},
     "output_type": "execute_result"
    }
   ],
   "source": [
    "# O pandas ignora o cabeçalho por padrão.\n",
    "total_candidatos = len(df)\n",
    "total_candidatos"
   ]
  },
  {
   "cell_type": "markdown",
   "metadata": {},
   "source": [
    "2. Qual é a proporção de sexo entre os candidatos;\n",
    "considerando que:"
   ]
  },
  {
   "cell_type": "code",
   "execution_count": 20,
   "metadata": {},
   "outputs": [
    {
     "data": {
      "text/plain": [
       "'Propoções Entre Homems e Mulheres'"
      ]
     },
     "metadata": {},
     "output_type": "display_data"
    },
    {
     "data": {
      "text/latex": [
       "$\\displaystyle P=\\frac{n_1}{n_2}$"
      ],
      "text/plain": [
       "<IPython.core.display.Math object>"
      ]
     },
     "metadata": {},
     "output_type": "display_data"
    }
   ],
   "source": [
    "display(\"Propoções Entre Homems e Mulheres\")\n",
    "display(Math(r\"P=\\frac{n_1}{n_2}\"))"
   ]
  },
  {
   "cell_type": "code",
   "execution_count": 24,
   "metadata": {},
   "outputs": [
    {
     "data": {
      "text/plain": [
       "SEXO\n",
       "F       57.270628\n",
       "M       42.729372\n",
       "Name: count, dtype: float64"
      ]
     },
     "execution_count": 24,
     "metadata": {},
     "output_type": "execute_result"
    }
   ],
   "source": [
    "df_sexo = pd.DataFrame({\n",
    "    'SEXO': df.TP_SEXO\n",
    "})\n",
    "contagem_sexo = df_sexo.value_counts()\n",
    "propocao_sexo = contagem_sexo/len(df_sexo) * 100\n",
    "propocao_sexo\n",
    "\n"
   ]
  },
  {
   "cell_type": "markdown",
   "metadata": {},
   "source": [
    "3. Elabore um histograma da idade;"
   ]
  },
  {
   "cell_type": "code",
   "execution_count": 44,
   "metadata": {},
   "outputs": [
    {
     "data": {
      "image/png": "[encoded data removed]",
      "text/plain": [
       "<Figure size 640x480 with 1 Axes>"
      ]
     },
     "metadata": {},
     "output_type": "display_data"
    }
   ],
   "source": [
    "df_idade = pd.DataFrame({\n",
    "    \"IDADE\": df.NU_IDADE\n",
    "})\n",
    "historigrama_idade = df_idade\n",
    "plt.title(\"Historiograma de Idade\", fontsize=14)\n",
    "plt.hist(historigrama_idade,bins=range(df['NU_IDADE'].min(),df['NU_IDADE'].max()+2), edgecolor='black', alpha=0.7)\n",
    "plt.xlabel('Idade', fontsize=12)\n",
    "plt.ylabel('Frequência', fontsize=12)\n",
    "plt.grid(axis='y', linestyle='--',alpha=0.7)\n",
    "plt.show()"
   ]
  },
  {
   "cell_type": "markdown",
   "metadata": {},
   "source": [
    "4. Calcule a média das notas das provas do ENEM;"
   ]
  },
  {
   "cell_type": "code",
   "execution_count": 46,
   "metadata": {},
   "outputs": [
    {
     "data": {
      "text/plain": [
       "NATUREZA      475.887625\n",
       "HUMANAS       501.978689\n",
       "MATEMATICA    523.425890\n",
       "dtype: float64"
      ]
     },
     "execution_count": 46,
     "metadata": {},
     "output_type": "execute_result"
    }
   ],
   "source": [
    "df_notas = pd.DataFrame({\n",
    "    'NATUREZA': df.NU_NOTA_CN,\n",
    "    'HUMANAS': df.NU_NOTA_CH,\n",
    "    'MATEMATICA':df.NU_NOTA_MT\n",
    "})\n",
    "media_notas = df_notas.mean()\n",
    "media_notas"
   ]
  },
  {
   "cell_type": "markdown",
   "metadata": {},
   "source": [
    "5. Faça um boxplot das notas de CN do ENEM;"
   ]
  },
  {
   "cell_type": "code",
   "execution_count": 56,
   "metadata": {},
   "outputs": [
    {
     "data": {
      "image/png": "[encoded data removed]",
      "text/plain": [
       "<Figure size 800x600 with 1 Axes>"
      ]
     },
     "metadata": {},
     "output_type": "display_data"
    }
   ],
   "source": [
    "plt.figure(figsize=(8,6))\n",
    "plt.boxplot(df_notas, vert=True, patch_artist=True, boxprops=dict(facecolor='skyblue'))\n",
    "plt.title(\" Notas de Ciência da Natureza\")\n",
    "plt.ylabel(\"Nota\", fontsize=12)\n",
    "plt.grid(axis='y',linestyle='--', alpha=0.7)\n",
    "plt.show()"
   ]
  }
 ],
 "metadata": {
  "colab": {
   "authorship_tag": "ABX9TyNpU2bqd58BWk9eQi+/UXWS",
   "include_colab_link": true,
   "provenance": []
  },
  "kernelspec": {
   "display_name": "Python 3",
   "name": "python3"
  },
  "language_info": {
   "codemirror_mode": {
    "name": "ipython",
    "version": 3
   },
   "file_extension": ".py",
   "mimetype": "text/x-python",
   "name": "python",
   "nbconvert_exporter": "python",
   "pygments_lexer": "ipython3",
   "version": "3.10.12"
  }
 },
 "nbformat": 4,
 "nbformat_minor": 0
}
