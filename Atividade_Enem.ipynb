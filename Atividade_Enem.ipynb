{
 "cells": [
  {
   "cell_type": "markdown",
   "metadata": {
    "colab_type": "text",
    "id": "view-in-github"
   },
   "source": [
    "<a href=\"https://colab.research.google.com/github/GstavRocha/DataAlanlise/blob/main/Atividade_Enem.ipynb\" target=\"_parent\"><img src=\"https://colab.research.google.com/assets/colab-badge.svg\" alt=\"Open In Colab\"/></a>"
   ]
  },
  {
   "cell_type": "markdown",
   "metadata": {},
   "source": [
    "# Atividade de Analise de Dados\n",
    "## Docente Gustavo Fontoura\n",
    "### Discente Luiz Gustavo da Rocha Ferreira\n",
    "Esta é uma atividade mais complexa, mas ainda podemos avaliar os dados.\n",
    "a) Baixe os arquivos em anexos que contêm os dados e o dicionário dos dados;\n",
    "b) abra o arquivo do ENEM no Colab;\n",
    "c) manipule as variáveis para obter as seguintes informações:\n",
    "1. Quantos candidatos fazem parte da base de dados;\n",
    "2. Qual é a proporção de sexo entre os candidatos;\n",
    "3. Elabore um histograma da idade;\n",
    "4. Calcule a média das notas das provas do ENEM;\n",
    "5. Faça um boxplot das notas de CN do ENEM;\n",
    "6. Faça o boxplot das notas de CN distribuídas por Sexo;\n",
    "7. Calcule a média da nota da redação por Dependência Administrativa;"
   ]
  },
  {
   "cell_type": "code",
   "execution_count": null,
   "metadata": {
    "id": "1N-vtnFv4Vs5"
   },
   "outputs": [],
   "source": []
  }
 ],
 "metadata": {
  "colab": {
   "authorship_tag": "ABX9TyNpU2bqd58BWk9eQi+/UXWS",
   "include_colab_link": true,
   "provenance": []
  },
  "kernelspec": {
   "display_name": "Python 3",
   "name": "python3"
  },
  "language_info": {
   "name": "python"
  }
 },
 "nbformat": 4,
 "nbformat_minor": 0
}
